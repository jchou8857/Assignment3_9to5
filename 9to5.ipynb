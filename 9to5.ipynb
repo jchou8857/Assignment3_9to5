{
    "metadata": {
        "kernelspec": {
            "name": "SQL",
            "display_name": "SQL",
            "language": "sql"
        },
        "language_info": {
            "name": "sql",
            "version": ""
        },
        "extensions": {
            "azuredatastudio": {
                "version": 1,
                "views": []
            }
        }
    },
    "nbformat_minor": 2,
    "nbformat": 4,
    "cells": [
        {
            "cell_type": "markdown",
            "source": [
                "# <span style=\"font-size: 20pt; font-family: Montserrat, sans-serif; color: rgb(92, 148, 206); background-color: rgb(255, 255, 255); font-weight: 700; font-variant-east-asian: normal; vertical-align: baseline; white-space: pre-wrap;\">Graded Assignment 3: 9 to 5</span>\n",
                "\n",
                "  \n",
                "\n",
                "<span style=\"font-size: 10pt; font-family: &quot;Times New Roman&quot;; color: rgb(102, 102, 102); background-color: rgb(255, 255, 255); font-variant-east-asian: normal; vertical-align: baseline; white-space: pre-wrap;\">Time to show off your SQL skills! For each question, copy the SQL query you used and make note of the answer.</span>\n",
                "\n",
                "  \n",
                "\n",
                "## <span style=\"font-size: 12pt; font-family: Montserrat, sans-serif; color: rgb(53, 74, 95); background-color: rgb(255, 255, 255); font-weight: 700; font-variant-east-asian: normal; vertical-align: baseline; white-space: pre-wrap;\">The Dataset</span>\n",
                "\n",
                "<span style=\"font-size: 10pt; font-family: &quot;Times New Roman&quot;; color: rgb(102, 102, 102); background-color: rgb(255, 255, 255); font-variant-east-asian: normal; vertical-align: baseline; white-space: pre-wrap;\">For this assignment, you will be using the Bureau of Labor Statistics (BLS) Current Employment Survey (CES) results which can be found on</span> [<span style=\"font-size: 10pt; font-family: &quot;Times New Roman&quot;; color: rgb(17, 85, 204); background-color: rgb(255, 255, 255); font-variant-east-asian: normal; text-decoration-line: underline; vertical-align: baseline; white-space: pre-wrap;\">Kaggle</span>](https://www.kaggle.com/bls/employment)<span style=\"font-size: 10pt; font-family: &quot;Times New Roman&quot;; color: rgb(102, 102, 102); background-color: rgb(255, 255, 255); font-variant-east-asian: normal; vertical-align: baseline; white-space: pre-wrap;\">.</span>\n",
                "\n",
                "  \n",
                "\n",
                "## <span style=\"font-size: 12pt; font-family: Montserrat, sans-serif; color: rgb(53, 74, 95); background-color: rgb(255, 255, 255); font-weight: 700; font-variant-east-asian: normal; vertical-align: baseline; white-space: pre-wrap;\">Business Issue</span>\n",
                "\n",
                "<span style=\"font-size: 10pt; font-family: &quot;Times New Roman&quot;; color: rgb(102, 102, 102); background-color: rgb(255, 255, 255); font-variant-east-asian: normal; vertical-align: baseline; white-space: pre-wrap;\">You are working for the Bureau of Labor Statistics with the United States government and have been approached by your boss with an important meeting request. You have been asked by your supervisor to meet with Dolly Parton whose nonprofit is looking to shed light on the state of employment in the United States. As part of the 9 to 5 project, their research is focused on production and nonsupervisory employees and how those employees fare compared to all employees in the United States. While the data the BLS collects from the CES is publicly available, Dolly Parton and her colleagues need your assistance navigating the thousands of rows in each table in LaborStatisticsDB.</span>\n",
                "\n",
                "  \n",
                "\n",
                "## <span style=\"font-size: 12pt; font-family: Montserrat, sans-serif; color: rgb(53, 74, 95); background-color: rgb(255, 255, 255); font-weight: 700; font-variant-east-asian: normal; vertical-align: baseline; white-space: pre-wrap;\">About the Dataset</span>\n",
                "\n",
                "<span style=\"font-size: 10pt; font-family: &quot;Times New Roman&quot;; color: rgb(102, 102, 102); background-color: rgb(255, 255, 255); font-variant-east-asian: normal; vertical-align: baseline; white-space: pre-wrap;\">This dataset comes directly from the Bureau of Labor Statistics’ Current Employment Survey (CES). Here are some things you need to know:</span>\n",
                "\n",
                "1. <span style=\"font-size: 10pt; background-color: rgb(255, 255, 255); font-variant-east-asian: normal; vertical-align: baseline; white-space: pre-wrap;\">The industry table contains an NAICS code. This is different from the industry code. NAICS stands for North American Industry Classification System.</span>\n",
                "    \n",
                "2. <span style=\"font-size: 10pt; background-color: rgb(255, 255, 255); font-variant-east-asian: normal; vertical-align: baseline; white-space: pre-wrap;\">Series ID is composed of multiple different codes. CES stands for Current Employment Survey, the name of the survey which collected the data. The industry code as specified by the BLS and the data type code as specified in the datatype table.</span>\n",
                "    \n",
                "\n",
                "  \n",
                "\n",
                "## <span style=\"font-size: 12pt; font-family: Montserrat, sans-serif; color: rgb(53, 74, 95); background-color: rgb(255, 255, 255); font-weight: 700; font-variant-east-asian: normal; vertical-align: baseline; white-space: pre-wrap;\">Set Up</span>\n",
                "\n",
                "<span style=\"font-size: 10pt; font-family: &quot;Times New Roman&quot;; color: rgb(102, 102, 102); background-color: rgb(255, 255, 255); font-variant-east-asian: normal; vertical-align: baseline; white-space: pre-wrap;\">To connect to the database, use the same connection info used during the SQL lessons.&nbsp;</span> \n",
                "\n",
                "<span style=\"font-size: 10pt; font-family: &quot;Times New Roman&quot;; color: rgb(102, 102, 102); background-color: rgb(255, 255, 255); font-variant-east-asian: normal; vertical-align: baseline; white-space: pre-wrap;\">For the assignment, we will be using the LaborStatisticsDB database.</span>\n",
                "\n",
                "  \n",
                "\n",
                "## <span style=\"font-size: 12pt; font-family: Montserrat, sans-serif; color: rgb(53, 74, 95); background-color: rgb(255, 255, 255); font-weight: 700; font-variant-east-asian: normal; vertical-align: baseline; white-space: pre-wrap;\">Database Exploration</span>\n",
                "\n",
                "<span style=\"font-size: 10pt; font-family: &quot;Times New Roman&quot;; color: rgb(102, 102, 102); background-color: rgb(255, 255, 255); font-variant-east-asian: normal; vertical-align: baseline; white-space: pre-wrap;\">To start with, let’s get to know the database further.</span>\n",
                "\n",
                "1. <span style=\"background-color: rgb(255, 255, 255); color: rgb(102, 102, 102); font-family: &quot;Times New Roman&quot;; font-size: 10pt; white-space: pre-wrap;\">Use this space to make note of each table in the database, the columns within each table, each column’s data type, and how the tables are connected. You can write this down or draw a diagram. Whatever method helps you get an understanding of what is going on with LaborStatisticsDB.</span>"
            ],
            "metadata": {
                "azdata_cell_guid": "28ea70c5-f0be-4197-b6c0-ade22886a708"
            },
            "attachments": {}
        },
        {
            "cell_type": "markdown",
            "source": [
                "To add a photo, diagram or document to your file, drop the file into the folder that holds this notebook.  Use the the link button to the right of the  \\</\\> symbol in the gray part of this cell, the link is just the name of your file.\n",
                "\n",
                "[LaborStatisticsDB Map](vscode-file://vscode-app/c:/Program%20Files/Azure%20Data%20Studio/resources/app/out/vs/code/electron-browser/workbench/LaborStatisticsDB%20Map.jpg)  \n",
                "\n",
                "[](vscode-file://vscode-app/c:/Program%20Files/Azure%20Data%20Studio/resources/app/out/vs/code/electron-browser/workbench/LaborStatisticsDB%20Map)\n",
                "\n",
                "[](vscode-file://vscode-app/c:/Program%20Files/Azure%20Data%20Studio/resources/app/out/vs/code/electron-browser/workbench/LaborStatisticsDB%20Map.jpg)[](vscode-file://vscode-app/c:/Program%20Files/Azure%20Data%20Studio/resources/app/out/vs/code/electron-browser/workbench/LaborStatisticsDB%20Map.jpg)"
            ],
            "metadata": {
                "azdata_cell_guid": "aeae906c-752c-49d3-b482-3ed6a4f54b6e"
            },
            "attachments": {}
        },
        {
            "cell_type": "code",
            "source": [
                "SELECT TOP 5 * FROM LaborStatisticsDB.dbo.annual_2016\r\n",
                "SELECT TOP 5 * FROM LaborStatisticsDB.dbo.january_2017\r\n",
                "SELECT TOP 5 * FROM LaborStatisticsDB.dbo.datatype\r\n",
                "SELECT TOP 5 * FROM LaborStatisticsDB.dbo.footnote\r\n",
                "SELECT TOP 5 * FROM LaborStatisticsDB.dbo.industry\r\n",
                "SELECT TOP 5 * FROM LaborStatisticsDB.dbo.period\r\n",
                "SELECT TOP 5 * FROM LaborStatisticsDB.dbo.seasonal\r\n",
                "SELECT TOP 5 * FROM LaborStatisticsDB.dbo.series\r\n",
                "SELECT TOP 5 * FROM LaborStatisticsDB.dbo.supersector"
            ],
            "metadata": {
                "azdata_cell_guid": "51e37159-0066-4c99-b10a-30f31267cbd4",
                "language": "sql"
            },
            "outputs": [
                {
                    "output_type": "display_data",
                    "data": {
                        "text/html": "(5 rows affected)"
                    },
                    "metadata": {}
                },
                {
                    "output_type": "display_data",
                    "data": {
                        "text/html": "(5 rows affected)"
                    },
                    "metadata": {}
                },
                {
                    "output_type": "display_data",
                    "data": {
                        "text/html": "(5 rows affected)"
                    },
                    "metadata": {}
                },
                {
                    "output_type": "display_data",
                    "data": {
                        "text/html": "(2 rows affected)"
                    },
                    "metadata": {}
                },
                {
                    "output_type": "display_data",
                    "data": {
                        "text/html": "(5 rows affected)"
                    },
                    "metadata": {}
                },
                {
                    "output_type": "display_data",
                    "data": {
                        "text/html": "(5 rows affected)"
                    },
                    "metadata": {}
                },
                {
                    "output_type": "display_data",
                    "data": {
                        "text/html": "(2 rows affected)"
                    },
                    "metadata": {}
                },
                {
                    "output_type": "display_data",
                    "data": {
                        "text/html": "(5 rows affected)"
                    },
                    "metadata": {}
                },
                {
                    "output_type": "display_data",
                    "data": {
                        "text/html": "(5 rows affected)"
                    },
                    "metadata": {}
                },
                {
                    "output_type": "display_data",
                    "data": {
                        "text/html": "Total execution time: 00:00:00.178"
                    },
                    "metadata": {}
                },
                {
                    "output_type": "execute_result",
                    "execution_count": 16,
                    "data": {
                        "application/vnd.dataresource+json": {
                            "schema": {
                                "fields": [
                                    {
                                        "name": "id"
                                    },
                                    {
                                        "name": "series_id"
                                    },
                                    {
                                        "name": "year"
                                    },
                                    {
                                        "name": "period"
                                    },
                                    {
                                        "name": "value"
                                    },
                                    {
                                        "name": "footnote_codes"
                                    },
                                    {
                                        "name": "original_file"
                                    }
                                ]
                            },
                            "data": [
                                {
                                    "0": "0",
                                    "1": "CEU5500000007",
                                    "2": "2016",
                                    "3": "M13",
                                    "4": "36.9",
                                    "5": "NULL",
                                    "6": "ce.data.55c.FinancialActivities.ProductionEmployeeHoursAndEarnings.csv"
                                },
                                {
                                    "0": "1",
                                    "1": "CEU5500000008",
                                    "2": "2016",
                                    "3": "M13",
                                    "4": "26.11",
                                    "5": "NULL",
                                    "6": "ce.data.55c.FinancialActivities.ProductionEmployeeHoursAndEarnings.csv"
                                },
                                {
                                    "0": "2",
                                    "1": "CEU5500000030",
                                    "2": "2016",
                                    "3": "M13",
                                    "4": "962.73",
                                    "5": "NULL",
                                    "6": "ce.data.55c.FinancialActivities.ProductionEmployeeHoursAndEarnings.csv"
                                },
                                {
                                    "0": "3",
                                    "1": "CEU5500000031",
                                    "2": "2016",
                                    "3": "M13",
                                    "4": "411.29",
                                    "5": "NULL",
                                    "6": "ce.data.55c.FinancialActivities.ProductionEmployeeHoursAndEarnings.csv"
                                },
                                {
                                    "0": "4",
                                    "1": "CEU5500000032",
                                    "2": "2016",
                                    "3": "M13",
                                    "4": "11.15",
                                    "5": "NULL",
                                    "6": "ce.data.55c.FinancialActivities.ProductionEmployeeHoursAndEarnings.csv"
                                }
                            ]
                        },
                        "text/html": "<table><tr><th>id</th><th>series_id</th><th>year</th><th>period</th><th>value</th><th>footnote_codes</th><th>original_file</th></tr><tr><td>0</td><td>CEU5500000007</td><td>2016</td><td>M13</td><td>36.9</td><td>NULL</td><td>ce.data.55c.FinancialActivities.ProductionEmployeeHoursAndEarnings.csv</td></tr><tr><td>1</td><td>CEU5500000008</td><td>2016</td><td>M13</td><td>26.11</td><td>NULL</td><td>ce.data.55c.FinancialActivities.ProductionEmployeeHoursAndEarnings.csv</td></tr><tr><td>2</td><td>CEU5500000030</td><td>2016</td><td>M13</td><td>962.73</td><td>NULL</td><td>ce.data.55c.FinancialActivities.ProductionEmployeeHoursAndEarnings.csv</td></tr><tr><td>3</td><td>CEU5500000031</td><td>2016</td><td>M13</td><td>411.29</td><td>NULL</td><td>ce.data.55c.FinancialActivities.ProductionEmployeeHoursAndEarnings.csv</td></tr><tr><td>4</td><td>CEU5500000032</td><td>2016</td><td>M13</td><td>11.15</td><td>NULL</td><td>ce.data.55c.FinancialActivities.ProductionEmployeeHoursAndEarnings.csv</td></tr></table>"
                    },
                    "metadata": {}
                },
                {
                    "output_type": "execute_result",
                    "execution_count": 16,
                    "data": {
                        "application/vnd.dataresource+json": {
                            "schema": {
                                "fields": [
                                    {
                                        "name": "id"
                                    },
                                    {
                                        "name": "series_id"
                                    },
                                    {
                                        "name": "year"
                                    },
                                    {
                                        "name": "period"
                                    },
                                    {
                                        "name": "value"
                                    },
                                    {
                                        "name": "footnote_codes"
                                    },
                                    {
                                        "name": "original_file"
                                    }
                                ]
                            },
                            "data": [
                                {
                                    "0": "0",
                                    "1": "CES5500000007",
                                    "2": "2017",
                                    "3": "M01",
                                    "4": "36.9",
                                    "5": "NULL",
                                    "6": "ce.data.55c.FinancialActivities.ProductionEmployeeHoursAndEarnings.csv"
                                },
                                {
                                    "0": "1",
                                    "1": "CES5500000008",
                                    "2": "2017",
                                    "3": "M01",
                                    "4": "26.27",
                                    "5": "NULL",
                                    "6": "ce.data.55c.FinancialActivities.ProductionEmployeeHoursAndEarnings.csv"
                                },
                                {
                                    "0": "2",
                                    "1": "CES5500000030",
                                    "2": "2017",
                                    "3": "M01",
                                    "4": "969.36",
                                    "5": "NULL",
                                    "6": "ce.data.55c.FinancialActivities.ProductionEmployeeHoursAndEarnings.csv"
                                },
                                {
                                    "0": "3",
                                    "1": "CES5500000031",
                                    "2": "2017",
                                    "3": "M01",
                                    "4": "406.67",
                                    "5": "NULL",
                                    "6": "ce.data.55c.FinancialActivities.ProductionEmployeeHoursAndEarnings.csv"
                                },
                                {
                                    "0": "4",
                                    "1": "CES5500000032",
                                    "2": "2017",
                                    "3": "M01",
                                    "4": "11.02",
                                    "5": "NULL",
                                    "6": "ce.data.55c.FinancialActivities.ProductionEmployeeHoursAndEarnings.csv"
                                }
                            ]
                        },
                        "text/html": "<table><tr><th>id</th><th>series_id</th><th>year</th><th>period</th><th>value</th><th>footnote_codes</th><th>original_file</th></tr><tr><td>0</td><td>CES5500000007</td><td>2017</td><td>M01</td><td>36.9</td><td>NULL</td><td>ce.data.55c.FinancialActivities.ProductionEmployeeHoursAndEarnings.csv</td></tr><tr><td>1</td><td>CES5500000008</td><td>2017</td><td>M01</td><td>26.27</td><td>NULL</td><td>ce.data.55c.FinancialActivities.ProductionEmployeeHoursAndEarnings.csv</td></tr><tr><td>2</td><td>CES5500000030</td><td>2017</td><td>M01</td><td>969.36</td><td>NULL</td><td>ce.data.55c.FinancialActivities.ProductionEmployeeHoursAndEarnings.csv</td></tr><tr><td>3</td><td>CES5500000031</td><td>2017</td><td>M01</td><td>406.67</td><td>NULL</td><td>ce.data.55c.FinancialActivities.ProductionEmployeeHoursAndEarnings.csv</td></tr><tr><td>4</td><td>CES5500000032</td><td>2017</td><td>M01</td><td>11.02</td><td>NULL</td><td>ce.data.55c.FinancialActivities.ProductionEmployeeHoursAndEarnings.csv</td></tr></table>"
                    },
                    "metadata": {}
                },
                {
                    "output_type": "execute_result",
                    "execution_count": 16,
                    "data": {
                        "application/vnd.dataresource+json": {
                            "schema": {
                                "fields": [
                                    {
                                        "name": "data_type_code"
                                    },
                                    {
                                        "name": "data_type_text"
                                    }
                                ]
                            },
                            "data": [
                                {
                                    "0": "1",
                                    "1": "ALL EMPLOYEES"
                                },
                                {
                                    "0": "2",
                                    "1": "AVERAGE WEEKLY HOURS OF ALL EMPLOYEES"
                                },
                                {
                                    "0": "3",
                                    "1": "AVERAGE HOURLY EARNINGS OF ALL EMPLOYEES"
                                },
                                {
                                    "0": "4",
                                    "1": "AVERAGE WEEKLY OVERTIME HOURS OF ALL EMPLOYEES"
                                },
                                {
                                    "0": "6",
                                    "1": "PRODUCTION AND NONSUPERVISORY EMPLOYEES"
                                }
                            ]
                        },
                        "text/html": "<table><tr><th>data_type_code</th><th>data_type_text</th></tr><tr><td>1</td><td>ALL EMPLOYEES</td></tr><tr><td>2</td><td>AVERAGE WEEKLY HOURS OF ALL EMPLOYEES</td></tr><tr><td>3</td><td>AVERAGE HOURLY EARNINGS OF ALL EMPLOYEES</td></tr><tr><td>4</td><td>AVERAGE WEEKLY OVERTIME HOURS OF ALL EMPLOYEES</td></tr><tr><td>6</td><td>PRODUCTION AND NONSUPERVISORY EMPLOYEES</td></tr></table>"
                    },
                    "metadata": {}
                },
                {
                    "output_type": "execute_result",
                    "execution_count": 16,
                    "data": {
                        "application/vnd.dataresource+json": {
                            "schema": {
                                "fields": [
                                    {
                                        "name": "footnote_code"
                                    },
                                    {
                                        "name": "footnote_text"
                                    }
                                ]
                            },
                            "data": [
                                {
                                    "0": "I",
                                    "1": "Seasonally Adjusted Independently. See https://www.bls.gov/web/empsit/cestn.htm#SA_ind for details."
                                },
                                {
                                    "0": "P",
                                    "1": "preliminary"
                                }
                            ]
                        },
                        "text/html": "<table><tr><th>footnote_code</th><th>footnote_text</th></tr><tr><td>I</td><td>Seasonally Adjusted Independently. See https://www.bls.gov/web/empsit/cestn.htm#SA_ind for details.</td></tr><tr><td>P</td><td>preliminary</td></tr></table>"
                    },
                    "metadata": {}
                },
                {
                    "output_type": "execute_result",
                    "execution_count": 16,
                    "data": {
                        "application/vnd.dataresource+json": {
                            "schema": {
                                "fields": [
                                    {
                                        "name": "id"
                                    },
                                    {
                                        "name": "industry_code"
                                    },
                                    {
                                        "name": "naics_code"
                                    },
                                    {
                                        "name": "publishing_status"
                                    },
                                    {
                                        "name": "industry_name"
                                    },
                                    {
                                        "name": "display_level"
                                    },
                                    {
                                        "name": "selectable"
                                    },
                                    {
                                        "name": "sort_sequence"
                                    }
                                ]
                            },
                            "data": [
                                {
                                    "0": "0",
                                    "1": "0",
                                    "2": "-",
                                    "3": "B",
                                    "4": "Total nonfarm",
                                    "5": "0",
                                    "6": "T",
                                    "7": "1"
                                },
                                {
                                    "0": "1",
                                    "1": "5000000",
                                    "2": "-",
                                    "3": "A",
                                    "4": "Total private",
                                    "5": "1",
                                    "6": "T",
                                    "7": "2"
                                },
                                {
                                    "0": "2",
                                    "1": "6000000",
                                    "2": "-",
                                    "3": "A",
                                    "4": "Goods-producing",
                                    "5": "1",
                                    "6": "T",
                                    "7": "3"
                                },
                                {
                                    "0": "3",
                                    "1": "7000000",
                                    "2": "-",
                                    "3": "B",
                                    "4": "Service-providing",
                                    "5": "1",
                                    "6": "T",
                                    "7": "4"
                                },
                                {
                                    "0": "4",
                                    "1": "8000000",
                                    "2": "-",
                                    "3": "A",
                                    "4": "Private service-providing",
                                    "5": "1",
                                    "6": "T",
                                    "7": "5"
                                }
                            ]
                        },
                        "text/html": "<table><tr><th>id</th><th>industry_code</th><th>naics_code</th><th>publishing_status</th><th>industry_name</th><th>display_level</th><th>selectable</th><th>sort_sequence</th></tr><tr><td>0</td><td>0</td><td>-</td><td>B</td><td>Total nonfarm</td><td>0</td><td>T</td><td>1</td></tr><tr><td>1</td><td>5000000</td><td>-</td><td>A</td><td>Total private</td><td>1</td><td>T</td><td>2</td></tr><tr><td>2</td><td>6000000</td><td>-</td><td>A</td><td>Goods-producing</td><td>1</td><td>T</td><td>3</td></tr><tr><td>3</td><td>7000000</td><td>-</td><td>B</td><td>Service-providing</td><td>1</td><td>T</td><td>4</td></tr><tr><td>4</td><td>8000000</td><td>-</td><td>A</td><td>Private service-providing</td><td>1</td><td>T</td><td>5</td></tr></table>"
                    },
                    "metadata": {}
                },
                {
                    "output_type": "execute_result",
                    "execution_count": 16,
                    "data": {
                        "application/vnd.dataresource+json": {
                            "schema": {
                                "fields": [
                                    {
                                        "name": "period_code"
                                    },
                                    {
                                        "name": "month_abbr"
                                    },
                                    {
                                        "name": "month"
                                    }
                                ]
                            },
                            "data": [
                                {
                                    "0": "M01",
                                    "1": "JAN",
                                    "2": "January             "
                                },
                                {
                                    "0": "M02",
                                    "1": "FEB",
                                    "2": "February            "
                                },
                                {
                                    "0": "M03",
                                    "1": "MAR",
                                    "2": "March               "
                                },
                                {
                                    "0": "M04",
                                    "1": "APR",
                                    "2": "April               "
                                },
                                {
                                    "0": "M05",
                                    "1": "MAY",
                                    "2": "May                 "
                                }
                            ]
                        },
                        "text/html": "<table><tr><th>period_code</th><th>month_abbr</th><th>month</th></tr><tr><td>M01</td><td>JAN</td><td>January             </td></tr><tr><td>M02</td><td>FEB</td><td>February            </td></tr><tr><td>M03</td><td>MAR</td><td>March               </td></tr><tr><td>M04</td><td>APR</td><td>April               </td></tr><tr><td>M05</td><td>MAY</td><td>May                 </td></tr></table>"
                    },
                    "metadata": {}
                },
                {
                    "output_type": "execute_result",
                    "execution_count": 16,
                    "data": {
                        "application/vnd.dataresource+json": {
                            "schema": {
                                "fields": [
                                    {
                                        "name": "industry_code"
                                    },
                                    {
                                        "name": "seasonal_text"
                                    }
                                ]
                            },
                            "data": [
                                {
                                    "0": "S",
                                    "1": "Seasonally Adjusted"
                                },
                                {
                                    "0": "U",
                                    "1": "Not Seasonally Adjusted"
                                }
                            ]
                        },
                        "text/html": "<table><tr><th>industry_code</th><th>seasonal_text</th></tr><tr><td>S</td><td>Seasonally Adjusted</td></tr><tr><td>U</td><td>Not Seasonally Adjusted</td></tr></table>"
                    },
                    "metadata": {}
                },
                {
                    "output_type": "execute_result",
                    "execution_count": 16,
                    "data": {
                        "application/vnd.dataresource+json": {
                            "schema": {
                                "fields": [
                                    {
                                        "name": "series_id"
                                    },
                                    {
                                        "name": "supersector_code"
                                    },
                                    {
                                        "name": "industry_code"
                                    },
                                    {
                                        "name": "data_type_code"
                                    },
                                    {
                                        "name": "seasonal"
                                    },
                                    {
                                        "name": "series_title"
                                    }
                                ]
                            },
                            "data": [
                                {
                                    "0": "CES0000000001",
                                    "1": "0",
                                    "2": "00000000",
                                    "3": "1",
                                    "4": "S",
                                    "5": "All employees"
                                },
                                {
                                    "0": "CES0000000010",
                                    "1": "0",
                                    "2": "00000000",
                                    "3": "10",
                                    "4": "S",
                                    "5": "Women employees"
                                },
                                {
                                    "0": "CES0000000025",
                                    "1": "0",
                                    "2": "00000000",
                                    "3": "25",
                                    "4": "S",
                                    "5": "All employees"
                                },
                                {
                                    "0": "CES0000000026",
                                    "1": "0",
                                    "2": "00000000",
                                    "3": "26",
                                    "4": "S",
                                    "5": "All employees"
                                },
                                {
                                    "0": "CES0500000001",
                                    "1": "5",
                                    "2": "05000000",
                                    "3": "1",
                                    "4": "S",
                                    "5": "All employees"
                                }
                            ]
                        },
                        "text/html": "<table><tr><th>series_id</th><th>supersector_code</th><th>industry_code</th><th>data_type_code</th><th>seasonal</th><th>series_title</th></tr><tr><td>CES0000000001</td><td>0</td><td>00000000</td><td>1</td><td>S</td><td>All employees</td></tr><tr><td>CES0000000010</td><td>0</td><td>00000000</td><td>10</td><td>S</td><td>Women employees</td></tr><tr><td>CES0000000025</td><td>0</td><td>00000000</td><td>25</td><td>S</td><td>All employees</td></tr><tr><td>CES0000000026</td><td>0</td><td>00000000</td><td>26</td><td>S</td><td>All employees</td></tr><tr><td>CES0500000001</td><td>5</td><td>05000000</td><td>1</td><td>S</td><td>All employees</td></tr></table>"
                    },
                    "metadata": {}
                },
                {
                    "output_type": "execute_result",
                    "execution_count": 16,
                    "data": {
                        "application/vnd.dataresource+json": {
                            "schema": {
                                "fields": [
                                    {
                                        "name": "supersector_code"
                                    },
                                    {
                                        "name": "supersector_name"
                                    }
                                ]
                            },
                            "data": [
                                {
                                    "0": "0",
                                    "1": "Total nonfarm"
                                },
                                {
                                    "0": "5",
                                    "1": "Total private"
                                },
                                {
                                    "0": "6",
                                    "1": "Goods-producing"
                                },
                                {
                                    "0": "7",
                                    "1": "Service-providing"
                                },
                                {
                                    "0": "8",
                                    "1": "Private service-providing"
                                }
                            ]
                        },
                        "text/html": "<table><tr><th>supersector_code</th><th>supersector_name</th></tr><tr><td>0</td><td>Total nonfarm</td></tr><tr><td>5</td><td>Total private</td></tr><tr><td>6</td><td>Goods-producing</td></tr><tr><td>7</td><td>Service-providing</td></tr><tr><td>8</td><td>Private service-providing</td></tr></table>"
                    },
                    "metadata": {}
                }
            ],
            "execution_count": 16
        },
        {
            "cell_type": "markdown",
            "source": [
                "2. <span style=\"background-color: rgb(255, 255, 255); color: rgb(102, 102, 102); font-family: Arvo, serif; font-size: 10pt; white-space: pre-wrap;\">What is the datatype for women employees?</span>\n",
                "\n",
                "> **<mark>10</mark>**"
            ],
            "metadata": {
                "azdata_cell_guid": "01b111b7-baf1-4617-88bc-cd442826c9c9"
            },
            "attachments": {}
        },
        {
            "cell_type": "code",
            "source": [
                "SELECT * FROM LaborStatisticsDB.dbo.datatype\r\n",
                "WHERE data_type_text LIKE '%women%' AND data_type_text LIKE '%employee%'"
            ],
            "metadata": {
                "azdata_cell_guid": "02fa547c-0bb7-4a40-81c2-f5c05154df04",
                "language": "sql",
                "tags": []
            },
            "outputs": [
                {
                    "output_type": "display_data",
                    "data": {
                        "text/html": "(2 rows affected)"
                    },
                    "metadata": {}
                },
                {
                    "output_type": "display_data",
                    "data": {
                        "text/html": "Total execution time: 00:00:00.236"
                    },
                    "metadata": {}
                },
                {
                    "output_type": "execute_result",
                    "execution_count": 18,
                    "data": {
                        "application/vnd.dataresource+json": {
                            "schema": {
                                "fields": [
                                    {
                                        "name": "data_type_code"
                                    },
                                    {
                                        "name": "data_type_text"
                                    }
                                ]
                            },
                            "data": [
                                {
                                    "0": "10",
                                    "1": "WOMEN EMPLOYEES"
                                },
                                {
                                    "0": "39",
                                    "1": "WOMEN EMPLOYEES-TO-ALL EMPLOYEES RATIO"
                                }
                            ]
                        },
                        "text/html": "<table><tr><th>data_type_code</th><th>data_type_text</th></tr><tr><td>10</td><td>WOMEN EMPLOYEES</td></tr><tr><td>39</td><td>WOMEN EMPLOYEES-TO-ALL EMPLOYEES RATIO</td></tr></table>"
                    },
                    "metadata": {}
                }
            ],
            "execution_count": 18
        },
        {
            "cell_type": "markdown",
            "source": [
                "3. <span style=\"background-color: rgb(255, 255, 255); font-size: 10pt; white-space: pre-wrap; color: rgb(102, 102, 102); font-family: Arvo, serif;\">What is the series id for&nbsp; women employees in the commercial banking industry in the financial activities supersector?</span>\n",
                "\n",
                "> <span style=\"font-size: 13.3333px; white-space: pre-wrap; background-color: yellow;\"><b>Two series ids: CES5552211010 (seasonally adjusted), CEU5552211010 (not seasonally adjusted)</b></span>"
            ],
            "metadata": {
                "azdata_cell_guid": "325f85cc-9545-47b3-b975-3aab6278e4ea"
            },
            "attachments": {}
        },
        {
            "cell_type": "code",
            "source": [
                "SELECT series.series_id, series.data_type_code, industry.industry_name, supersector.supersector_name\r\n",
                "FROM (LaborStatisticsDB.dbo.series as series JOIN LaborStatisticsDB.dbo.supersector as supersector ON series.supersector_code = supersector.supersector_code) JOIN LaborStatisticsDB.dbo.industry as industry ON series.industry_code = industry.industry_code\r\n",
                "WHERE series.data_type_code = 10 AND industry.industry_name LIKE '%banking%' AND supersector.supersector_name LIKE '%financial%'"
            ],
            "metadata": {
                "azdata_cell_guid": "1315af1f-45f8-457d-8bbe-8e9f46303fca",
                "language": "sql"
            },
            "outputs": [
                {
                    "output_type": "display_data",
                    "data": {
                        "text/html": "(2 rows affected)"
                    },
                    "metadata": {}
                },
                {
                    "output_type": "display_data",
                    "data": {
                        "text/html": "Total execution time: 00:00:00.100"
                    },
                    "metadata": {}
                },
                {
                    "output_type": "execute_result",
                    "execution_count": 19,
                    "data": {
                        "application/vnd.dataresource+json": {
                            "schema": {
                                "fields": [
                                    {
                                        "name": "series_id"
                                    },
                                    {
                                        "name": "data_type_code"
                                    },
                                    {
                                        "name": "industry_name"
                                    },
                                    {
                                        "name": "supersector_name"
                                    }
                                ]
                            },
                            "data": [
                                {
                                    "0": "CES5552211010",
                                    "1": "10",
                                    "2": "Commercial banking",
                                    "3": "Financial activities"
                                },
                                {
                                    "0": "CEU5552211010",
                                    "1": "10",
                                    "2": "Commercial banking",
                                    "3": "Financial activities"
                                }
                            ]
                        },
                        "text/html": "<table><tr><th>series_id</th><th>data_type_code</th><th>industry_name</th><th>supersector_name</th></tr><tr><td>CES5552211010</td><td>10</td><td>Commercial banking</td><td>Financial activities</td></tr><tr><td>CEU5552211010</td><td>10</td><td>Commercial banking</td><td>Financial activities</td></tr></table>"
                    },
                    "metadata": {}
                }
            ],
            "execution_count": 19
        },
        {
            "cell_type": "markdown",
            "source": [
                "## <span style=\"font-size: 12pt; font-family: Montserrat, sans-serif; color: rgb(53, 74, 95); background-color: rgb(255, 255, 255); font-weight: 700; font-variant-numeric: normal; font-variant-east-asian: normal; vertical-align: baseline; white-space: pre-wrap;\">Join in on the Fun</span>\n",
                "\n",
                "<span style=\"font-size: 10pt; font-family: Arvo, serif; color: rgb(102, 102, 102); background-color: rgb(255, 255, 255); font-variant-numeric: normal; font-variant-east-asian: normal; vertical-align: baseline; white-space: pre-wrap;\">Time to start joining! You can choose the type of join you use, just make sure to make a&nbsp; note!</span>\n",
                "\n",
                "1. <span style=\"background-color: rgb(255, 255, 255); font-size: 10pt; white-space: pre-wrap; color: rgb(102, 102, 102); font-family: Arvo, serif;\">Join&nbsp; annual_2016 with series on series_id. We only want the data in the annual_2016 table to be included in the result.</span>\n",
                "\n",
                "**<mark>Are you looking for it to display only the columns in the annual\\_2016 table? Not sure what you're looking for here. What's the point of joining if you're not going to pull from and view columns from both tables?</mark>**"
            ],
            "metadata": {
                "azdata_cell_guid": "ec1dfc63-ad41-4349-8c26-1d326ace8c6c"
            },
            "attachments": {}
        },
        {
            "cell_type": "code",
            "source": [
                "SELECT TOP 10 a2016.id, a2016.series_id, a2016.year, a2016.period, a2016.value, a2016.footnote_codes, a2016.original_file\r\n",
                "FROM LaborStatisticsDB.dbo.annual_2016 as a2016 LEFT JOIN LaborStatisticsDB.dbo.series as series ON a2016.series_id = series.series_id"
            ],
            "metadata": {
                "azdata_cell_guid": "cf90f0b4-c482-4fbb-ac17-d2244881caab",
                "language": "sql"
            },
            "outputs": [
                {
                    "output_type": "display_data",
                    "data": {
                        "text/html": "(10 rows affected)"
                    },
                    "metadata": {}
                },
                {
                    "output_type": "display_data",
                    "data": {
                        "text/html": "Total execution time: 00:00:00.188"
                    },
                    "metadata": {}
                },
                {
                    "output_type": "execute_result",
                    "execution_count": 22,
                    "data": {
                        "application/vnd.dataresource+json": {
                            "schema": {
                                "fields": [
                                    {
                                        "name": "id"
                                    },
                                    {
                                        "name": "series_id"
                                    },
                                    {
                                        "name": "year"
                                    },
                                    {
                                        "name": "period"
                                    },
                                    {
                                        "name": "value"
                                    },
                                    {
                                        "name": "footnote_codes"
                                    },
                                    {
                                        "name": "original_file"
                                    }
                                ]
                            },
                            "data": [
                                {
                                    "0": "0",
                                    "1": "CEU5500000007",
                                    "2": "2016",
                                    "3": "M13",
                                    "4": "36.9",
                                    "5": "NULL",
                                    "6": "ce.data.55c.FinancialActivities.ProductionEmployeeHoursAndEarnings.csv"
                                },
                                {
                                    "0": "1",
                                    "1": "CEU5500000008",
                                    "2": "2016",
                                    "3": "M13",
                                    "4": "26.11",
                                    "5": "NULL",
                                    "6": "ce.data.55c.FinancialActivities.ProductionEmployeeHoursAndEarnings.csv"
                                },
                                {
                                    "0": "2",
                                    "1": "CEU5500000030",
                                    "2": "2016",
                                    "3": "M13",
                                    "4": "962.73",
                                    "5": "NULL",
                                    "6": "ce.data.55c.FinancialActivities.ProductionEmployeeHoursAndEarnings.csv"
                                },
                                {
                                    "0": "3",
                                    "1": "CEU5500000031",
                                    "2": "2016",
                                    "3": "M13",
                                    "4": "411.29",
                                    "5": "NULL",
                                    "6": "ce.data.55c.FinancialActivities.ProductionEmployeeHoursAndEarnings.csv"
                                },
                                {
                                    "0": "4",
                                    "1": "CEU5500000032",
                                    "2": "2016",
                                    "3": "M13",
                                    "4": "11.15",
                                    "5": "NULL",
                                    "6": "ce.data.55c.FinancialActivities.ProductionEmployeeHoursAndEarnings.csv"
                                },
                                {
                                    "0": "5",
                                    "1": "CEU5500000034",
                                    "2": "2016",
                                    "3": "M13",
                                    "4": "111.6",
                                    "5": "NULL",
                                    "6": "ce.data.55c.FinancialActivities.ProductionEmployeeHoursAndEarnings.csv"
                                },
                                {
                                    "0": "6",
                                    "1": "CEU5500000035",
                                    "2": "2016",
                                    "3": "M13",
                                    "4": "179.2",
                                    "5": "NULL",
                                    "6": "ce.data.55c.FinancialActivities.ProductionEmployeeHoursAndEarnings.csv"
                                },
                                {
                                    "0": "7",
                                    "1": "CEU5500000081",
                                    "2": "2016",
                                    "3": "M13",
                                    "4": "236997",
                                    "5": "NULL",
                                    "6": "ce.data.55c.FinancialActivities.ProductionEmployeeHoursAndEarnings.csv"
                                },
                                {
                                    "0": "8",
                                    "1": "CEU5500000082",
                                    "2": "2016",
                                    "3": "M13",
                                    "4": "6189003",
                                    "5": "NULL",
                                    "6": "ce.data.55c.FinancialActivities.ProductionEmployeeHoursAndEarnings.csv"
                                },
                                {
                                    "0": "9",
                                    "1": "CEU5552200007",
                                    "2": "2016",
                                    "3": "M13",
                                    "4": "37.3",
                                    "5": "NULL",
                                    "6": "ce.data.55c.FinancialActivities.ProductionEmployeeHoursAndEarnings.csv"
                                }
                            ]
                        },
                        "text/html": "<table><tr><th>id</th><th>series_id</th><th>year</th><th>period</th><th>value</th><th>footnote_codes</th><th>original_file</th></tr><tr><td>0</td><td>CEU5500000007</td><td>2016</td><td>M13</td><td>36.9</td><td>NULL</td><td>ce.data.55c.FinancialActivities.ProductionEmployeeHoursAndEarnings.csv</td></tr><tr><td>1</td><td>CEU5500000008</td><td>2016</td><td>M13</td><td>26.11</td><td>NULL</td><td>ce.data.55c.FinancialActivities.ProductionEmployeeHoursAndEarnings.csv</td></tr><tr><td>2</td><td>CEU5500000030</td><td>2016</td><td>M13</td><td>962.73</td><td>NULL</td><td>ce.data.55c.FinancialActivities.ProductionEmployeeHoursAndEarnings.csv</td></tr><tr><td>3</td><td>CEU5500000031</td><td>2016</td><td>M13</td><td>411.29</td><td>NULL</td><td>ce.data.55c.FinancialActivities.ProductionEmployeeHoursAndEarnings.csv</td></tr><tr><td>4</td><td>CEU5500000032</td><td>2016</td><td>M13</td><td>11.15</td><td>NULL</td><td>ce.data.55c.FinancialActivities.ProductionEmployeeHoursAndEarnings.csv</td></tr><tr><td>5</td><td>CEU5500000034</td><td>2016</td><td>M13</td><td>111.6</td><td>NULL</td><td>ce.data.55c.FinancialActivities.ProductionEmployeeHoursAndEarnings.csv</td></tr><tr><td>6</td><td>CEU5500000035</td><td>2016</td><td>M13</td><td>179.2</td><td>NULL</td><td>ce.data.55c.FinancialActivities.ProductionEmployeeHoursAndEarnings.csv</td></tr><tr><td>7</td><td>CEU5500000081</td><td>2016</td><td>M13</td><td>236997</td><td>NULL</td><td>ce.data.55c.FinancialActivities.ProductionEmployeeHoursAndEarnings.csv</td></tr><tr><td>8</td><td>CEU5500000082</td><td>2016</td><td>M13</td><td>6189003</td><td>NULL</td><td>ce.data.55c.FinancialActivities.ProductionEmployeeHoursAndEarnings.csv</td></tr><tr><td>9</td><td>CEU5552200007</td><td>2016</td><td>M13</td><td>37.3</td><td>NULL</td><td>ce.data.55c.FinancialActivities.ProductionEmployeeHoursAndEarnings.csv</td></tr></table>"
                    },
                    "metadata": {}
                }
            ],
            "execution_count": 22
        },
        {
            "cell_type": "markdown",
            "source": [
                "2. <span style=\"background-color: rgb(255, 255, 255); font-size: 10pt; white-space: pre-wrap; color: rgb(102, 102, 102); font-family: Arvo, serif;\">Join series and datatype on data_type_code</span>"
            ],
            "metadata": {
                "azdata_cell_guid": "710b59ae-224b-4f9d-b1a4-4a6b89048bbb"
            },
            "attachments": {}
        },
        {
            "cell_type": "code",
            "source": [
                "SELECT TOP 10 *\r\n",
                "FROM LaborStatisticsDB.dbo.series as series FULL OUTER JOIN LaborStatisticsDB.dbo.datatype as datatype ON series.data_type_code = datatype.data_type_code"
            ],
            "metadata": {
                "azdata_cell_guid": "fca61371-c9b5-4823-a4b4-34c1279ece3e",
                "language": "sql"
            },
            "outputs": [
                {
                    "output_type": "display_data",
                    "data": {
                        "text/html": "(10 rows affected)"
                    },
                    "metadata": {}
                },
                {
                    "output_type": "display_data",
                    "data": {
                        "text/html": "Total execution time: 00:00:00.060"
                    },
                    "metadata": {}
                },
                {
                    "output_type": "execute_result",
                    "execution_count": 21,
                    "data": {
                        "application/vnd.dataresource+json": {
                            "schema": {
                                "fields": [
                                    {
                                        "name": "series_id"
                                    },
                                    {
                                        "name": "supersector_code"
                                    },
                                    {
                                        "name": "industry_code"
                                    },
                                    {
                                        "name": "data_type_code"
                                    },
                                    {
                                        "name": "seasonal"
                                    },
                                    {
                                        "name": "series_title"
                                    },
                                    {
                                        "name": "data_type_code"
                                    },
                                    {
                                        "name": "data_type_text"
                                    }
                                ]
                            },
                            "data": [
                                {
                                    "0": "CES0000000001",
                                    "1": "0",
                                    "2": "00000000",
                                    "3": "1",
                                    "4": "S",
                                    "5": "All employees",
                                    "6": "1",
                                    "7": "ALL EMPLOYEES"
                                },
                                {
                                    "0": "CES0000000010",
                                    "1": "0",
                                    "2": "00000000",
                                    "3": "10",
                                    "4": "S",
                                    "5": "Women employees",
                                    "6": "10",
                                    "7": "WOMEN EMPLOYEES"
                                },
                                {
                                    "0": "CES0000000025",
                                    "1": "0",
                                    "2": "00000000",
                                    "3": "25",
                                    "4": "S",
                                    "5": "All employees",
                                    "6": "25",
                                    "7": "ALL EMPLOYEES"
                                },
                                {
                                    "0": "CES0000000026",
                                    "1": "0",
                                    "2": "00000000",
                                    "3": "26",
                                    "4": "S",
                                    "5": "All employees",
                                    "6": "26",
                                    "7": "ALL EMPLOYEES"
                                },
                                {
                                    "0": "CES0500000001",
                                    "1": "5",
                                    "2": "05000000",
                                    "3": "1",
                                    "4": "S",
                                    "5": "All employees",
                                    "6": "1",
                                    "7": "ALL EMPLOYEES"
                                },
                                {
                                    "0": "CES0500000002",
                                    "1": "5",
                                    "2": "05000000",
                                    "3": "2",
                                    "4": "S",
                                    "5": "Average weekly hours of all employees",
                                    "6": "2",
                                    "7": "AVERAGE WEEKLY HOURS OF ALL EMPLOYEES"
                                },
                                {
                                    "0": "CES0500000003",
                                    "1": "5",
                                    "2": "05000000",
                                    "3": "3",
                                    "4": "S",
                                    "5": "Average hourly earnings of all employees",
                                    "6": "3",
                                    "7": "AVERAGE HOURLY EARNINGS OF ALL EMPLOYEES"
                                },
                                {
                                    "0": "CES0500000006",
                                    "1": "5",
                                    "2": "05000000",
                                    "3": "6",
                                    "4": "S",
                                    "5": "Production and nonsupervisory employees",
                                    "6": "6",
                                    "7": "PRODUCTION AND NONSUPERVISORY EMPLOYEES"
                                },
                                {
                                    "0": "CES0500000007",
                                    "1": "5",
                                    "2": "05000000",
                                    "3": "7",
                                    "4": "S",
                                    "5": "Average weekly hours of production and nonsupervisory employees",
                                    "6": "7",
                                    "7": "AVERAGE WEEKLY HOURS OF PRODUCTION AND NONSUPERVISORY EMPLOYEES"
                                },
                                {
                                    "0": "CES0500000008",
                                    "1": "5",
                                    "2": "05000000",
                                    "3": "8",
                                    "4": "S",
                                    "5": "Average hourly earnings of production and nonsupervisory employees",
                                    "6": "8",
                                    "7": "AVERAGE HOURLY EARNINGS OF PRODUCTION AND NONSUPERVISORY EMPLOYEES"
                                }
                            ]
                        },
                        "text/html": "<table><tr><th>series_id</th><th>supersector_code</th><th>industry_code</th><th>data_type_code</th><th>seasonal</th><th>series_title</th><th>data_type_code</th><th>data_type_text</th></tr><tr><td>CES0000000001</td><td>0</td><td>00000000</td><td>1</td><td>S</td><td>All employees</td><td>1</td><td>ALL EMPLOYEES</td></tr><tr><td>CES0000000010</td><td>0</td><td>00000000</td><td>10</td><td>S</td><td>Women employees</td><td>10</td><td>WOMEN EMPLOYEES</td></tr><tr><td>CES0000000025</td><td>0</td><td>00000000</td><td>25</td><td>S</td><td>All employees</td><td>25</td><td>ALL EMPLOYEES</td></tr><tr><td>CES0000000026</td><td>0</td><td>00000000</td><td>26</td><td>S</td><td>All employees</td><td>26</td><td>ALL EMPLOYEES</td></tr><tr><td>CES0500000001</td><td>5</td><td>05000000</td><td>1</td><td>S</td><td>All employees</td><td>1</td><td>ALL EMPLOYEES</td></tr><tr><td>CES0500000002</td><td>5</td><td>05000000</td><td>2</td><td>S</td><td>Average weekly hours of all employees</td><td>2</td><td>AVERAGE WEEKLY HOURS OF ALL EMPLOYEES</td></tr><tr><td>CES0500000003</td><td>5</td><td>05000000</td><td>3</td><td>S</td><td>Average hourly earnings of all employees</td><td>3</td><td>AVERAGE HOURLY EARNINGS OF ALL EMPLOYEES</td></tr><tr><td>CES0500000006</td><td>5</td><td>05000000</td><td>6</td><td>S</td><td>Production and nonsupervisory employees</td><td>6</td><td>PRODUCTION AND NONSUPERVISORY EMPLOYEES</td></tr><tr><td>CES0500000007</td><td>5</td><td>05000000</td><td>7</td><td>S</td><td>Average weekly hours of production and nonsupervisory employees</td><td>7</td><td>AVERAGE WEEKLY HOURS OF PRODUCTION AND NONSUPERVISORY EMPLOYEES</td></tr><tr><td>CES0500000008</td><td>5</td><td>05000000</td><td>8</td><td>S</td><td>Average hourly earnings of production and nonsupervisory employees</td><td>8</td><td>AVERAGE HOURLY EARNINGS OF PRODUCTION AND NONSUPERVISORY EMPLOYEES</td></tr></table>"
                    },
                    "metadata": {}
                }
            ],
            "execution_count": 21
        },
        {
            "cell_type": "markdown",
            "source": [
                "3. <span style=\"background-color: rgb(255, 255, 255); font-size: 10pt; white-space: pre-wrap; color: rgb(102, 102, 102); font-family: Arvo, serif;\">Join series and industry on industry_code</span>"
            ],
            "metadata": {
                "azdata_cell_guid": "78ac8ba4-2a6a-426f-af30-6b56d9d09054"
            },
            "attachments": {}
        },
        {
            "cell_type": "code",
            "source": [
                "SELECT TOP 10 *\r\n",
                "FROM LaborStatisticsDB.dbo.series as series FULL OUTER JOIN LaborStatisticsDB.dbo.industry as industry ON series.industry_code = industry.industry_code"
            ],
            "metadata": {
                "azdata_cell_guid": "ac022766-e280-4d95-8362-1f2b18773662",
                "language": "sql"
            },
            "outputs": [
                {
                    "output_type": "display_data",
                    "data": {
                        "text/html": "(10 rows affected)"
                    },
                    "metadata": {}
                },
                {
                    "output_type": "display_data",
                    "data": {
                        "text/html": "Total execution time: 00:00:00.064"
                    },
                    "metadata": {}
                },
                {
                    "output_type": "execute_result",
                    "execution_count": 22,
                    "data": {
                        "application/vnd.dataresource+json": {
                            "schema": {
                                "fields": [
                                    {
                                        "name": "series_id"
                                    },
                                    {
                                        "name": "supersector_code"
                                    },
                                    {
                                        "name": "industry_code"
                                    },
                                    {
                                        "name": "data_type_code"
                                    },
                                    {
                                        "name": "seasonal"
                                    },
                                    {
                                        "name": "series_title"
                                    },
                                    {
                                        "name": "id"
                                    },
                                    {
                                        "name": "industry_code"
                                    },
                                    {
                                        "name": "naics_code"
                                    },
                                    {
                                        "name": "publishing_status"
                                    },
                                    {
                                        "name": "industry_name"
                                    },
                                    {
                                        "name": "display_level"
                                    },
                                    {
                                        "name": "selectable"
                                    },
                                    {
                                        "name": "sort_sequence"
                                    }
                                ]
                            },
                            "data": [
                                {
                                    "0": "CES0000000001",
                                    "1": "0",
                                    "2": "00000000",
                                    "3": "1",
                                    "4": "S",
                                    "5": "All employees",
                                    "6": "0",
                                    "7": "0",
                                    "8": "-",
                                    "9": "B",
                                    "10": "Total nonfarm",
                                    "11": "0",
                                    "12": "T",
                                    "13": "1"
                                },
                                {
                                    "0": "CES0000000010",
                                    "1": "0",
                                    "2": "00000000",
                                    "3": "10",
                                    "4": "S",
                                    "5": "Women employees",
                                    "6": "0",
                                    "7": "0",
                                    "8": "-",
                                    "9": "B",
                                    "10": "Total nonfarm",
                                    "11": "0",
                                    "12": "T",
                                    "13": "1"
                                },
                                {
                                    "0": "CES0000000025",
                                    "1": "0",
                                    "2": "00000000",
                                    "3": "25",
                                    "4": "S",
                                    "5": "All employees",
                                    "6": "0",
                                    "7": "0",
                                    "8": "-",
                                    "9": "B",
                                    "10": "Total nonfarm",
                                    "11": "0",
                                    "12": "T",
                                    "13": "1"
                                },
                                {
                                    "0": "CES0000000026",
                                    "1": "0",
                                    "2": "00000000",
                                    "3": "26",
                                    "4": "S",
                                    "5": "All employees",
                                    "6": "0",
                                    "7": "0",
                                    "8": "-",
                                    "9": "B",
                                    "10": "Total nonfarm",
                                    "11": "0",
                                    "12": "T",
                                    "13": "1"
                                },
                                {
                                    "0": "CES0500000001",
                                    "1": "5",
                                    "2": "05000000",
                                    "3": "1",
                                    "4": "S",
                                    "5": "All employees",
                                    "6": "1",
                                    "7": "5000000",
                                    "8": "-",
                                    "9": "A",
                                    "10": "Total private",
                                    "11": "1",
                                    "12": "T",
                                    "13": "2"
                                },
                                {
                                    "0": "CES0500000002",
                                    "1": "5",
                                    "2": "05000000",
                                    "3": "2",
                                    "4": "S",
                                    "5": "Average weekly hours of all employees",
                                    "6": "1",
                                    "7": "5000000",
                                    "8": "-",
                                    "9": "A",
                                    "10": "Total private",
                                    "11": "1",
                                    "12": "T",
                                    "13": "2"
                                },
                                {
                                    "0": "CES0500000003",
                                    "1": "5",
                                    "2": "05000000",
                                    "3": "3",
                                    "4": "S",
                                    "5": "Average hourly earnings of all employees",
                                    "6": "1",
                                    "7": "5000000",
                                    "8": "-",
                                    "9": "A",
                                    "10": "Total private",
                                    "11": "1",
                                    "12": "T",
                                    "13": "2"
                                },
                                {
                                    "0": "CES0500000006",
                                    "1": "5",
                                    "2": "05000000",
                                    "3": "6",
                                    "4": "S",
                                    "5": "Production and nonsupervisory employees",
                                    "6": "1",
                                    "7": "5000000",
                                    "8": "-",
                                    "9": "A",
                                    "10": "Total private",
                                    "11": "1",
                                    "12": "T",
                                    "13": "2"
                                },
                                {
                                    "0": "CES0500000007",
                                    "1": "5",
                                    "2": "05000000",
                                    "3": "7",
                                    "4": "S",
                                    "5": "Average weekly hours of production and nonsupervisory employees",
                                    "6": "1",
                                    "7": "5000000",
                                    "8": "-",
                                    "9": "A",
                                    "10": "Total private",
                                    "11": "1",
                                    "12": "T",
                                    "13": "2"
                                },
                                {
                                    "0": "CES0500000008",
                                    "1": "5",
                                    "2": "05000000",
                                    "3": "8",
                                    "4": "S",
                                    "5": "Average hourly earnings of production and nonsupervisory employees",
                                    "6": "1",
                                    "7": "5000000",
                                    "8": "-",
                                    "9": "A",
                                    "10": "Total private",
                                    "11": "1",
                                    "12": "T",
                                    "13": "2"
                                }
                            ]
                        },
                        "text/html": "<table><tr><th>series_id</th><th>supersector_code</th><th>industry_code</th><th>data_type_code</th><th>seasonal</th><th>series_title</th><th>id</th><th>industry_code</th><th>naics_code</th><th>publishing_status</th><th>industry_name</th><th>display_level</th><th>selectable</th><th>sort_sequence</th></tr><tr><td>CES0000000001</td><td>0</td><td>00000000</td><td>1</td><td>S</td><td>All employees</td><td>0</td><td>0</td><td>-</td><td>B</td><td>Total nonfarm</td><td>0</td><td>T</td><td>1</td></tr><tr><td>CES0000000010</td><td>0</td><td>00000000</td><td>10</td><td>S</td><td>Women employees</td><td>0</td><td>0</td><td>-</td><td>B</td><td>Total nonfarm</td><td>0</td><td>T</td><td>1</td></tr><tr><td>CES0000000025</td><td>0</td><td>00000000</td><td>25</td><td>S</td><td>All employees</td><td>0</td><td>0</td><td>-</td><td>B</td><td>Total nonfarm</td><td>0</td><td>T</td><td>1</td></tr><tr><td>CES0000000026</td><td>0</td><td>00000000</td><td>26</td><td>S</td><td>All employees</td><td>0</td><td>0</td><td>-</td><td>B</td><td>Total nonfarm</td><td>0</td><td>T</td><td>1</td></tr><tr><td>CES0500000001</td><td>5</td><td>05000000</td><td>1</td><td>S</td><td>All employees</td><td>1</td><td>5000000</td><td>-</td><td>A</td><td>Total private</td><td>1</td><td>T</td><td>2</td></tr><tr><td>CES0500000002</td><td>5</td><td>05000000</td><td>2</td><td>S</td><td>Average weekly hours of all employees</td><td>1</td><td>5000000</td><td>-</td><td>A</td><td>Total private</td><td>1</td><td>T</td><td>2</td></tr><tr><td>CES0500000003</td><td>5</td><td>05000000</td><td>3</td><td>S</td><td>Average hourly earnings of all employees</td><td>1</td><td>5000000</td><td>-</td><td>A</td><td>Total private</td><td>1</td><td>T</td><td>2</td></tr><tr><td>CES0500000006</td><td>5</td><td>05000000</td><td>6</td><td>S</td><td>Production and nonsupervisory employees</td><td>1</td><td>5000000</td><td>-</td><td>A</td><td>Total private</td><td>1</td><td>T</td><td>2</td></tr><tr><td>CES0500000007</td><td>5</td><td>05000000</td><td>7</td><td>S</td><td>Average weekly hours of production and nonsupervisory employees</td><td>1</td><td>5000000</td><td>-</td><td>A</td><td>Total private</td><td>1</td><td>T</td><td>2</td></tr><tr><td>CES0500000008</td><td>5</td><td>05000000</td><td>8</td><td>S</td><td>Average hourly earnings of production and nonsupervisory employees</td><td>1</td><td>5000000</td><td>-</td><td>A</td><td>Total private</td><td>1</td><td>T</td><td>2</td></tr></table>"
                    },
                    "metadata": {}
                }
            ],
            "execution_count": 22
        },
        {
            "cell_type": "markdown",
            "source": [
                "## <span style=\"font-size: 12pt; font-family: Montserrat, sans-serif; color: rgb(53, 74, 95); background-color: rgb(255, 255, 255); font-weight: 700; font-variant-numeric: normal; font-variant-east-asian: normal; vertical-align: baseline; white-space: pre-wrap;\">Aggregate Your Friends and Code some SQL</span>\n",
                "\n",
                "<span style=\"font-size: 10pt; font-family: Arvo, serif; color: rgb(102, 102, 102); background-color: rgb(255, 255, 255); font-variant-numeric: normal; font-variant-east-asian: normal; vertical-align: baseline; white-space: pre-wrap;\">Put together the following:</span>\n",
                "\n",
                "1. <span style=\"background-color: rgb(255, 255, 255); font-size: 10pt; white-space: pre-wrap; color: rgb(102, 102, 102); font-family: Arvo, serif;\">How many employees were reported in 2016 in all industries? Round to the nearest whole number.&nbsp; No chopping people into little bits, please.</span>\n",
                "\n",
                "<span style=\"font-size: 13.3333px; white-space: pre-wrap; background-color: yellow;\"><b style=\"\">2,340,612 total employees.</b></span>"
            ],
            "metadata": {
                "azdata_cell_guid": "f4290cc1-f824-4586-8850-59d926bf4460"
            },
            "attachments": {}
        },
        {
            "cell_type": "code",
            "source": [
                "SELECT round(sum(a2016.value),0) as 'Total Number of Employees'\r\n",
                "FROM (LaborStatisticsDB.dbo.annual_2016 as a2016 JOIN LaborStatisticsDB.dbo.series as series ON a2016.series_id = series.series_id) JOIN LaborStatisticsDB.dbo.datatype as datatype ON series.data_type_code = datatype.data_type_code\r\n",
                "WHERE datatype.data_type_text = 'ALL EMPLOYEES'"
            ],
            "metadata": {
                "azdata_cell_guid": "25099068-a629-4eb5-afca-ed3748c40605",
                "language": "sql",
                "tags": []
            },
            "outputs": [
                {
                    "output_type": "display_data",
                    "data": {
                        "text/html": "(1 row affected)"
                    },
                    "metadata": {}
                },
                {
                    "output_type": "display_data",
                    "data": {
                        "text/html": "Total execution time: 00:00:00.234"
                    },
                    "metadata": {}
                },
                {
                    "output_type": "execute_result",
                    "execution_count": 19,
                    "data": {
                        "application/vnd.dataresource+json": {
                            "schema": {
                                "fields": [
                                    {
                                        "name": "Total Number of Employees"
                                    }
                                ]
                            },
                            "data": [
                                {
                                    "0": "2340612"
                                }
                            ]
                        },
                        "text/html": "<table><tr><th>Total Number of Employees</th></tr><tr><td>2340612</td></tr></table>"
                    },
                    "metadata": {}
                }
            ],
            "execution_count": 19
        },
        {
            "cell_type": "markdown",
            "source": [
                "2. <span style=\"background-color: rgb(255, 255, 255); font-size: 10pt; white-space: pre-wrap; color: rgb(102, 102, 102); font-family: Arvo, serif;\">How many women employees were reported in 2016 in all industries? Round to the nearest whole number.&nbsp;</span> \n",
                "\n",
                " **<mark>1,125,490 women employees.</mark>**\n",
                "\n",
                "<span style=\"font-size: 13.3333px; white-space: pre-wrap;\"><br></span>"
            ],
            "metadata": {
                "azdata_cell_guid": "6358fab4-b933-4646-bef1-4be66dcd4317"
            },
            "attachments": {}
        },
        {
            "cell_type": "code",
            "source": [
                "SELECT round(sum(a2016.value),0) as 'Total Number of Women Employees'\r\n",
                "FROM LaborStatisticsDB.dbo.annual_2016 as a2016 JOIN LaborStatisticsDB.dbo.series as series ON a2016.series_id = series.series_id\r\n",
                "WHERE series.data_type_code = 10"
            ],
            "metadata": {
                "azdata_cell_guid": "7bb0bfb7-b9e3-4672-b354-7ca705bb0c3b",
                "language": "sql"
            },
            "outputs": [
                {
                    "output_type": "display_data",
                    "data": {
                        "text/html": "(1 row affected)"
                    },
                    "metadata": {}
                },
                {
                    "output_type": "display_data",
                    "data": {
                        "text/html": "Total execution time: 00:00:00.070"
                    },
                    "metadata": {}
                },
                {
                    "output_type": "execute_result",
                    "execution_count": 12,
                    "data": {
                        "application/vnd.dataresource+json": {
                            "schema": {
                                "fields": [
                                    {
                                        "name": "Total Number of Women Employees"
                                    }
                                ]
                            },
                            "data": [
                                {
                                    "0": "1125490"
                                }
                            ]
                        },
                        "text/html": "<table><tr><th>Total Number of Women Employees</th></tr><tr><td>1125490</td></tr></table>"
                    },
                    "metadata": {}
                }
            ],
            "execution_count": 12
        },
        {
            "cell_type": "markdown",
            "source": [
                "3. <span style=\"background-color: rgb(255, 255, 255); font-size: 10pt; white-space: pre-wrap; color: rgb(102, 102, 102); font-family: Arvo, serif;\">How many production/nonsupervisory employees were reported in 2016? Round to the nearest whole number.&nbsp;</span> \n",
                "\n",
                " **<mark>1,263,650 production/nonsupervisory employees.</mark>**\n",
                "\n",
                "<span style=\"font-size: 13.3333px; white-space: pre-wrap;\"><br></span>"
            ],
            "metadata": {
                "azdata_cell_guid": "246ea683-2075-4337-878d-fbfdd49b2dd7"
            },
            "attachments": {}
        },
        {
            "cell_type": "code",
            "source": [
                "SELECT round(sum(a2016.value),0) as 'Total Number of Production/NonSupervisory Employees'\r\n",
                "FROM (LaborStatisticsDB.dbo.annual_2016 as a2016 JOIN LaborStatisticsDB.dbo.series as series ON a2016.series_id = series.series_id) JOIN LaborStatisticsDB.dbo.datatype as datatype ON series.data_type_code = datatype.data_type_code\r\n",
                "WHERE datatype.data_type_text = 'PRODUCTION AND NONSUPERVISORY EMPLOYEES'"
            ],
            "metadata": {
                "azdata_cell_guid": "110f2591-069b-4bbe-87c7-2bcf76c3d36f",
                "language": "sql"
            },
            "outputs": [
                {
                    "output_type": "display_data",
                    "data": {
                        "text/html": "(1 row affected)"
                    },
                    "metadata": {}
                },
                {
                    "output_type": "display_data",
                    "data": {
                        "text/html": "Total execution time: 00:00:00.292"
                    },
                    "metadata": {}
                },
                {
                    "output_type": "execute_result",
                    "execution_count": 21,
                    "data": {
                        "application/vnd.dataresource+json": {
                            "schema": {
                                "fields": [
                                    {
                                        "name": "Total Number of Production/NonSupervisory Employees"
                                    }
                                ]
                            },
                            "data": [
                                {
                                    "0": "1263650"
                                }
                            ]
                        },
                        "text/html": "<table><tr><th>Total Number of Production/NonSupervisory Employees</th></tr><tr><td>1263650</td></tr></table>"
                    },
                    "metadata": {}
                }
            ],
            "execution_count": 21
        },
        {
            "cell_type": "markdown",
            "source": [
                "4. <span style=\"background-color: rgb(255, 255, 255); font-size: 10pt; white-space: pre-wrap; color: rgb(102, 102, 102); font-family: Arvo, serif;\">In January 2017, what is the average weekly hours worked by production and nonsupervisory employees across all industries?</span>\n",
                "\n",
                "<span style=\"font-size: 13.3333px; white-space: pre-wrap; background-color: yellow;\"><b>33 hours a week.</b></span>"
            ],
            "metadata": {
                "azdata_cell_guid": "9caa7f57-e39d-4b7a-b705-25f8fe29d60b"
            },
            "attachments": {}
        },
        {
            "cell_type": "code",
            "source": [
                "SELECT ROUND(\r\n",
                "(SELECT sum(j2017.value) as total_hours\r\n",
                "FROM (LaborStatisticsDB.dbo.january_2017 as j2017 JOIN LaborStatisticsDB.dbo.series as series ON j2017.series_id = series.series_id) JOIN LaborStatisticsDB.dbo.datatype as datatype ON series.data_type_code = datatype.data_type_code\r\n",
                "WHERE datatype.data_type_text = 'AGGREGATE WEEKLY HOURS OF PRODUCTION AND NONSUPERVISORY EMPLOYEES')\r\n",
                "/\r\n",
                "(SELECT sum(j2017.value) as total_production_employees\r\n",
                "FROM (LaborStatisticsDB.dbo.january_2017 as j2017 JOIN LaborStatisticsDB.dbo.series as series ON j2017.series_id = series.series_id) JOIN LaborStatisticsDB.dbo.datatype as datatype ON series.data_type_code = datatype.data_type_code\r\n",
                "WHERE datatype.data_type_text = 'PRODUCTION AND NONSUPERVISORY EMPLOYEES')\r\n",
                ",0) as 'Average Weekly Hours Worked by Production and Nonsupervisory Employees Across All Industries'"
            ],
            "metadata": {
                "azdata_cell_guid": "9f07fa8a-4217-439a-a9cd-831240d4bc9e",
                "language": "sql"
            },
            "outputs": [
                {
                    "output_type": "display_data",
                    "data": {
                        "text/html": "(1 row affected)"
                    },
                    "metadata": {}
                },
                {
                    "output_type": "display_data",
                    "data": {
                        "text/html": "Total execution time: 00:00:00.142"
                    },
                    "metadata": {}
                },
                {
                    "output_type": "execute_result",
                    "execution_count": 41,
                    "data": {
                        "application/vnd.dataresource+json": {
                            "schema": {
                                "fields": [
                                    {
                                        "name": "Average Weekly Hours Worked by Production and Nonsupervisory Employees Across All Industries"
                                    }
                                ]
                            },
                            "data": [
                                {
                                    "0": "33"
                                }
                            ]
                        },
                        "text/html": "<table><tr><th>Average Weekly Hours Worked by Production and Nonsupervisory Employees Across All Industries</th></tr><tr><td>33</td></tr></table>"
                    },
                    "metadata": {}
                }
            ],
            "execution_count": 41
        },
        {
            "cell_type": "markdown",
            "source": [
                "5. <span style=\"background-color: rgb(255, 255, 255); font-size: 10pt; white-space: pre-wrap; color: rgb(102, 102, 102); font-family: Arvo, serif;\">What is the total weekly payroll for production and nonsupervisory employees across all industries in January 2017? Round to the nearest penny, please.</span>\n",
                "\n",
                "<span style=\"font-size: 13.3333px; white-space: pre-wrap; background-color: yellow;\"><b>$1,838,753,220</b></span>"
            ],
            "metadata": {
                "azdata_cell_guid": "9c48ff2e-a6eb-4f02-8df2-988e219fbc00"
            },
            "attachments": {}
        },
        {
            "cell_type": "code",
            "source": [
                "SELECT round(sum(j2017.value),2)\r\n",
                "FROM (LaborStatisticsDB.dbo.january_2017 as j2017 JOIN LaborStatisticsDB.dbo.series as series ON j2017.series_id = series.series_id) JOIN LaborStatisticsDB.dbo.datatype as datatype ON series.data_type_code = datatype.data_type_code\r\n",
                "WHERE datatype.data_type_text = 'AGGREGATE WEEKLY PAYROLLS OF PRODUCTION AND NONSUPERVISORY EMPLOYEES'"
            ],
            "metadata": {
                "azdata_cell_guid": "c565641b-f1fa-4dbb-9320-24adfda97ca5",
                "language": "sql",
                "tags": []
            },
            "outputs": [
                {
                    "output_type": "display_data",
                    "data": {
                        "text/html": "(1 row affected)"
                    },
                    "metadata": {}
                },
                {
                    "output_type": "display_data",
                    "data": {
                        "text/html": "Total execution time: 00:00:00.108"
                    },
                    "metadata": {}
                },
                {
                    "output_type": "execute_result",
                    "execution_count": 46,
                    "data": {
                        "application/vnd.dataresource+json": {
                            "schema": {
                                "fields": [
                                    {
                                        "name": "(No column name)"
                                    }
                                ]
                            },
                            "data": [
                                {
                                    "0": "1838753220"
                                }
                            ]
                        },
                        "text/html": "<table><tr><th>(No column name)</th></tr><tr><td>1838753220</td></tr></table>"
                    },
                    "metadata": {}
                }
            ],
            "execution_count": 46
        },
        {
            "cell_type": "markdown",
            "source": [
                "6. <span style=\"background-color: rgb(255, 255, 255); font-size: 10pt; white-space: pre-wrap; color: rgb(102, 102, 102); font-family: Arvo, serif;\">In January 2017, which industry was the average weekly hours worked by production and nonsupervisory employees the highest? Which industry was the lowest?</span>\n",
                "\n",
                "<span style=\"font-size: 13.3333px; white-space: pre-wrap; background-color: yellow;\"><b>Highest average weekly hours in the \"Motor vehicle power train components\" industry at 49.8 hrs. Lowest average weekly hours in the \"Fitness and recreational sports centers\" industry at 16.7 hrs.</b></span>"
            ],
            "metadata": {
                "azdata_cell_guid": "862fd406-4fff-49bb-9d2b-232275a06405"
            },
            "attachments": {}
        },
        {
            "cell_type": "code",
            "source": [
                "SELECT TOP 10 industry.industry_name, j2017.value\r\n",
                "FROM ((LaborStatisticsDB.dbo.january_2017 as j2017 JOIN LaborStatisticsDB.dbo.series as series ON j2017.series_id = series.series_id) JOIN LaborStatisticsDB.dbo.datatype as datatype ON series.data_type_code = datatype.data_type_code) JOIN LaborStatisticsDB.dbo.industry as industry ON series.industry_code = industry.industry_code\r\n",
                "WHERE datatype.data_type_text = 'AVERAGE WEEKLY HOURS OF PRODUCTION AND NONSUPERVISORY EMPLOYEES'\r\n",
                "ORDER BY j2017.value DESC\r\n",
                "\r\n",
                "SELECT TOP 10 industry.industry_name, j2017.value\r\n",
                "FROM ((LaborStatisticsDB.dbo.january_2017 as j2017 JOIN LaborStatisticsDB.dbo.series as series ON j2017.series_id = series.series_id) JOIN LaborStatisticsDB.dbo.datatype as datatype ON series.data_type_code = datatype.data_type_code) JOIN LaborStatisticsDB.dbo.industry as industry ON series.industry_code = industry.industry_code\r\n",
                "WHERE datatype.data_type_text = 'AVERAGE WEEKLY HOURS OF PRODUCTION AND NONSUPERVISORY EMPLOYEES'\r\n",
                "ORDER BY j2017.value ASC"
            ],
            "metadata": {
                "azdata_cell_guid": "01e11050-5f2f-4d22-92e0-2b3024b80a5f",
                "language": "sql",
                "tags": []
            },
            "outputs": [
                {
                    "output_type": "display_data",
                    "data": {
                        "text/html": "(10 rows affected)"
                    },
                    "metadata": {}
                },
                {
                    "output_type": "display_data",
                    "data": {
                        "text/html": "(10 rows affected)"
                    },
                    "metadata": {}
                },
                {
                    "output_type": "display_data",
                    "data": {
                        "text/html": "Total execution time: 00:00:00.144"
                    },
                    "metadata": {}
                },
                {
                    "output_type": "execute_result",
                    "execution_count": 97,
                    "data": {
                        "application/vnd.dataresource+json": {
                            "schema": {
                                "fields": [
                                    {
                                        "name": "industry_name"
                                    },
                                    {
                                        "name": "value"
                                    }
                                ]
                            },
                            "data": [
                                {
                                    "0": "Motor vehicle power train components",
                                    "1": "49.8"
                                },
                                {
                                    "0": "Motor vehicle power train components",
                                    "1": "49.8"
                                },
                                {
                                    "0": "Motor vehicle power train components",
                                    "1": "49.4"
                                },
                                {
                                    "0": "Motor vehicle power train components",
                                    "1": "49.4"
                                },
                                {
                                    "0": "NULL",
                                    "1": "47.4"
                                },
                                {
                                    "0": "NULL",
                                    "1": "47.4"
                                },
                                {
                                    "0": "Crushed and broken limestone mining",
                                    "1": "47.3"
                                },
                                {
                                    "0": "Support activities for mining",
                                    "1": "47.3"
                                },
                                {
                                    "0": "Crushed and broken limestone mining",
                                    "1": "47.3"
                                },
                                {
                                    "0": "Support activities for mining",
                                    "1": "47.3"
                                }
                            ]
                        },
                        "text/html": "<table><tr><th>industry_name</th><th>value</th></tr><tr><td>Motor vehicle power train components</td><td>49.8</td></tr><tr><td>Motor vehicle power train components</td><td>49.8</td></tr><tr><td>Motor vehicle power train components</td><td>49.4</td></tr><tr><td>Motor vehicle power train components</td><td>49.4</td></tr><tr><td>NULL</td><td>47.4</td></tr><tr><td>NULL</td><td>47.4</td></tr><tr><td>Crushed and broken limestone mining</td><td>47.3</td></tr><tr><td>Support activities for mining</td><td>47.3</td></tr><tr><td>Crushed and broken limestone mining</td><td>47.3</td></tr><tr><td>Support activities for mining</td><td>47.3</td></tr></table>"
                    },
                    "metadata": {}
                },
                {
                    "output_type": "execute_result",
                    "execution_count": 97,
                    "data": {
                        "application/vnd.dataresource+json": {
                            "schema": {
                                "fields": [
                                    {
                                        "name": "industry_name"
                                    },
                                    {
                                        "name": "value"
                                    }
                                ]
                            },
                            "data": [
                                {
                                    "0": "Fitness and recreational sports centers",
                                    "1": "16.7"
                                },
                                {
                                    "0": "Fitness and recreational sports centers",
                                    "1": "16.7"
                                },
                                {
                                    "0": "Fitness and recreational sports centers",
                                    "1": "17"
                                },
                                {
                                    "0": "Fitness and recreational sports centers",
                                    "1": "17"
                                },
                                {
                                    "0": "Family clothing stores",
                                    "1": "17.8"
                                },
                                {
                                    "0": "Family clothing stores",
                                    "1": "17.8"
                                },
                                {
                                    "0": "Women's clothing stores",
                                    "1": "18.1"
                                },
                                {
                                    "0": "Civic and social organizations",
                                    "1": "18.1"
                                },
                                {
                                    "0": "Civic and social organizations",
                                    "1": "18.1"
                                },
                                {
                                    "0": "Women's clothing stores",
                                    "1": "18.1"
                                }
                            ]
                        },
                        "text/html": "<table><tr><th>industry_name</th><th>value</th></tr><tr><td>Fitness and recreational sports centers</td><td>16.7</td></tr><tr><td>Fitness and recreational sports centers</td><td>16.7</td></tr><tr><td>Fitness and recreational sports centers</td><td>17</td></tr><tr><td>Fitness and recreational sports centers</td><td>17</td></tr><tr><td>Family clothing stores</td><td>17.8</td></tr><tr><td>Family clothing stores</td><td>17.8</td></tr><tr><td>Women's clothing stores</td><td>18.1</td></tr><tr><td>Civic and social organizations</td><td>18.1</td></tr><tr><td>Civic and social organizations</td><td>18.1</td></tr><tr><td>Women's clothing stores</td><td>18.1</td></tr></table>"
                    },
                    "metadata": {}
                }
            ],
            "execution_count": 97
        },
        {
            "cell_type": "markdown",
            "source": [
                "7. <span style=\"background-color: rgb(255, 255, 255); font-size: 10pt; white-space: pre-wrap; color: rgb(102, 102, 102); font-family: Arvo, serif;\">In January 2021, which industry was the total weekly payroll for production and nonsupervisory employees the highest? Which industry was the lowest?</span>\n",
                "\n",
                "**<mark>Highest aggregate weekly payroll in \"total private\" at $74,498,171. Lowest aggregate weekly paroll in \"Coin-operated laundries and drycleaners\" at $10,079.</mark>**<span style=\"font-size: 13.3333px; white-space: pre-wrap;\"><br></span>"
            ],
            "metadata": {
                "azdata_cell_guid": "a53f4113-60c6-46d1-b9a3-34610c61d4f9"
            },
            "attachments": {}
        },
        {
            "cell_type": "code",
            "source": [
                "SELECT TOP 10 industry.industry_name, j2017.value\r\n",
                "FROM ((LaborStatisticsDB.dbo.january_2017 as j2017 JOIN LaborStatisticsDB.dbo.series as series ON j2017.series_id = series.series_id) JOIN LaborStatisticsDB.dbo.datatype as datatype ON series.data_type_code = datatype.data_type_code) JOIN LaborStatisticsDB.dbo.industry as industry ON series.industry_code = industry.industry_code\r\n",
                "WHERE datatype.data_type_text = 'AGGREGATE WEEKLY PAYROLLS OF PRODUCTION AND NONSUPERVISORY EMPLOYEES'\r\n",
                "ORDER BY j2017.value DESC\r\n",
                "\r\n",
                "SELECT TOP 10 industry.industry_name, j2017.value\r\n",
                "FROM ((LaborStatisticsDB.dbo.january_2017 as j2017 JOIN LaborStatisticsDB.dbo.series as series ON j2017.series_id = series.series_id) JOIN LaborStatisticsDB.dbo.datatype as datatype ON series.data_type_code = datatype.data_type_code) JOIN LaborStatisticsDB.dbo.industry as industry ON series.industry_code = industry.industry_code\r\n",
                "WHERE datatype.data_type_text = 'AGGREGATE WEEKLY PAYROLLS OF PRODUCTION AND NONSUPERVISORY EMPLOYEES'\r\n",
                "ORDER BY j2017.value ASC"
            ],
            "metadata": {
                "azdata_cell_guid": "583695e6-7438-4e03-8970-1fe0c677a793",
                "language": "sql"
            },
            "outputs": [
                {
                    "output_type": "display_data",
                    "data": {
                        "text/html": "(10 rows affected)"
                    },
                    "metadata": {}
                },
                {
                    "output_type": "display_data",
                    "data": {
                        "text/html": "(10 rows affected)"
                    },
                    "metadata": {}
                },
                {
                    "output_type": "display_data",
                    "data": {
                        "text/html": "Total execution time: 00:00:00.146"
                    },
                    "metadata": {}
                },
                {
                    "output_type": "execute_result",
                    "execution_count": 96,
                    "data": {
                        "application/vnd.dataresource+json": {
                            "schema": {
                                "fields": [
                                    {
                                        "name": "industry_name"
                                    },
                                    {
                                        "name": "value"
                                    }
                                ]
                            },
                            "data": [
                                {
                                    "0": "Total private",
                                    "1": "74498171"
                                },
                                {
                                    "0": "Total private",
                                    "1": "74498171"
                                },
                                {
                                    "0": "Total private",
                                    "1": "73474302"
                                },
                                {
                                    "0": "Total private",
                                    "1": "73474302"
                                },
                                {
                                    "0": "Private service-providing",
                                    "1": "60914722"
                                },
                                {
                                    "0": "Private service-providing",
                                    "1": "60914722"
                                },
                                {
                                    "0": "Private service-providing",
                                    "1": "60807771"
                                },
                                {
                                    "0": "Private service-providing",
                                    "1": "60807771"
                                },
                                {
                                    "0": "Professional and business services",
                                    "1": "15251268"
                                },
                                {
                                    "0": "Professional and business services",
                                    "1": "15251268"
                                }
                            ]
                        },
                        "text/html": "<table><tr><th>industry_name</th><th>value</th></tr><tr><td>Total private</td><td>74498171</td></tr><tr><td>Total private</td><td>74498171</td></tr><tr><td>Total private</td><td>73474302</td></tr><tr><td>Total private</td><td>73474302</td></tr><tr><td>Private service-providing</td><td>60914722</td></tr><tr><td>Private service-providing</td><td>60914722</td></tr><tr><td>Private service-providing</td><td>60807771</td></tr><tr><td>Private service-providing</td><td>60807771</td></tr><tr><td>Professional and business services</td><td>15251268</td></tr><tr><td>Professional and business services</td><td>15251268</td></tr></table>"
                    },
                    "metadata": {}
                },
                {
                    "output_type": "execute_result",
                    "execution_count": 96,
                    "data": {
                        "application/vnd.dataresource+json": {
                            "schema": {
                                "fields": [
                                    {
                                        "name": "industry_name"
                                    },
                                    {
                                        "name": "value"
                                    }
                                ]
                            },
                            "data": [
                                {
                                    "0": "Coin-operated laundries and drycleaners",
                                    "1": "10079"
                                },
                                {
                                    "0": "Coin-operated laundries and drycleaners",
                                    "1": "10079"
                                },
                                {
                                    "0": "Coin-operated laundries and drycleaners",
                                    "1": "10145"
                                },
                                {
                                    "0": "Coin-operated laundries and drycleaners",
                                    "1": "10145"
                                },
                                {
                                    "0": "Skiing facilities",
                                    "1": "10564"
                                },
                                {
                                    "0": "Skiing facilities",
                                    "1": "10564"
                                },
                                {
                                    "0": "Marinas",
                                    "1": "11560"
                                },
                                {
                                    "0": "Marinas",
                                    "1": "11560"
                                },
                                {
                                    "0": "RV parks and recreational camps",
                                    "1": "11598"
                                },
                                {
                                    "0": "RV parks and recreational camps",
                                    "1": "11598"
                                }
                            ]
                        },
                        "text/html": "<table><tr><th>industry_name</th><th>value</th></tr><tr><td>Coin-operated laundries and drycleaners</td><td>10079</td></tr><tr><td>Coin-operated laundries and drycleaners</td><td>10079</td></tr><tr><td>Coin-operated laundries and drycleaners</td><td>10145</td></tr><tr><td>Coin-operated laundries and drycleaners</td><td>10145</td></tr><tr><td>Skiing facilities</td><td>10564</td></tr><tr><td>Skiing facilities</td><td>10564</td></tr><tr><td>Marinas</td><td>11560</td></tr><tr><td>Marinas</td><td>11560</td></tr><tr><td>RV parks and recreational camps</td><td>11598</td></tr><tr><td>RV parks and recreational camps</td><td>11598</td></tr></table>"
                    },
                    "metadata": {}
                }
            ],
            "execution_count": 96
        },
        {
            "cell_type": "markdown",
            "source": [
                "## <span style=\"font-size: 12pt; font-family: Montserrat, sans-serif; color: rgb(53, 74, 95); background-color: rgb(255, 255, 255); font-weight: 700; font-variant-numeric: normal; font-variant-east-asian: normal; vertical-align: baseline; white-space: pre-wrap;\">Subqueries, Unions, Derived Tables, Oh My!</span>\n",
                "\n",
                "1. <span style=\"background-color: rgb(255, 255, 255); font-size: 10pt; white-space: pre-wrap; color: rgb(102, 102, 102); font-family: Arvo, serif;\">Write a query that returns the series_id, industry_code, industry_name, and value from the january_2017 table but only if that value is greater than the average value for annual_2016 of data_type_code 82.</span>"
            ],
            "metadata": {
                "azdata_cell_guid": "e98ec195-5399-4718-83ef-54fb954662a5"
            },
            "attachments": {}
        },
        {
            "cell_type": "code",
            "source": [
                "SELECT TOP 10 j2017.series_id, industry.industry_code, industry.industry_name, j2017.value\r\n",
                "FROM (LaborStatisticsDB.dbo.january_2017 as j2017 JOIN LaborStatisticsDB.dbo.series as series ON j2017.series_id = series.series_id) JOIN LaborStatisticsDB.dbo.industry as industry ON series.industry_code = industry.industry_code\r\n",
                "WHERE j2017.value >\r\n",
                "    (SELECT AVG(value)\r\n",
                "    FROM LaborStatisticsDB.dbo.annual_2016 as a2016 JOIN LaborStatisticsDB.dbo.series as series ON a2016.series_id = series.series_id\r\n",
                "    WHERE data_type_code = 82)"
            ],
            "metadata": {
                "azdata_cell_guid": "7c85f70b-528f-4cbd-bd8e-a6efab1c18df",
                "language": "sql"
            },
            "outputs": [
                {
                    "output_type": "display_data",
                    "data": {
                        "text/html": "(10 rows affected)"
                    },
                    "metadata": {}
                },
                {
                    "output_type": "display_data",
                    "data": {
                        "text/html": "Total execution time: 00:00:00.145"
                    },
                    "metadata": {}
                },
                {
                    "output_type": "execute_result",
                    "execution_count": 63,
                    "data": {
                        "application/vnd.dataresource+json": {
                            "schema": {
                                "fields": [
                                    {
                                        "name": "series_id"
                                    },
                                    {
                                        "name": "industry_code"
                                    },
                                    {
                                        "name": "industry_name"
                                    },
                                    {
                                        "name": "value"
                                    }
                                ]
                            },
                            "data": [
                                {
                                    "0": "CES0500000056",
                                    "1": "5000000",
                                    "2": "Total private",
                                    "3": "4239112"
                                },
                                {
                                    "0": "CES0500000056",
                                    "1": "5000000",
                                    "2": "Total private",
                                    "3": "4239112"
                                },
                                {
                                    "0": "CES0500000057",
                                    "1": "5000000",
                                    "2": "Total private",
                                    "3": "110301694"
                                },
                                {
                                    "0": "CES0500000057",
                                    "1": "5000000",
                                    "2": "Total private",
                                    "3": "110301694"
                                },
                                {
                                    "0": "CES0500000081",
                                    "1": "5000000",
                                    "2": "Total private",
                                    "3": "3412651"
                                },
                                {
                                    "0": "CES0500000081",
                                    "1": "5000000",
                                    "2": "Total private",
                                    "3": "3412651"
                                },
                                {
                                    "0": "CES0500000082",
                                    "1": "5000000",
                                    "2": "Total private",
                                    "3": "74498171"
                                },
                                {
                                    "0": "CES0500000082",
                                    "1": "5000000",
                                    "2": "Total private",
                                    "3": "74498171"
                                },
                                {
                                    "0": "CES0600000057",
                                    "1": "6000000",
                                    "2": "Goods-producing",
                                    "3": "21779094"
                                },
                                {
                                    "0": "CES0600000057",
                                    "1": "6000000",
                                    "2": "Goods-producing",
                                    "3": "21779094"
                                }
                            ]
                        },
                        "text/html": "<table><tr><th>series_id</th><th>industry_code</th><th>industry_name</th><th>value</th></tr><tr><td>CES0500000056</td><td>5000000</td><td>Total private</td><td>4239112</td></tr><tr><td>CES0500000056</td><td>5000000</td><td>Total private</td><td>4239112</td></tr><tr><td>CES0500000057</td><td>5000000</td><td>Total private</td><td>110301694</td></tr><tr><td>CES0500000057</td><td>5000000</td><td>Total private</td><td>110301694</td></tr><tr><td>CES0500000081</td><td>5000000</td><td>Total private</td><td>3412651</td></tr><tr><td>CES0500000081</td><td>5000000</td><td>Total private</td><td>3412651</td></tr><tr><td>CES0500000082</td><td>5000000</td><td>Total private</td><td>74498171</td></tr><tr><td>CES0500000082</td><td>5000000</td><td>Total private</td><td>74498171</td></tr><tr><td>CES0600000057</td><td>6000000</td><td>Goods-producing</td><td>21779094</td></tr><tr><td>CES0600000057</td><td>6000000</td><td>Goods-producing</td><td>21779094</td></tr></table>"
                    },
                    "metadata": {}
                }
            ],
            "execution_count": 63
        },
        {
            "cell_type": "markdown",
            "source": [
                "2. <span style=\"background-color: rgb(255, 255, 255); font-size: 10pt; white-space: pre-wrap; color: rgb(102, 102, 102); font-family: Arvo, serif;\">Create a Union table comparing average weekly earnings&nbsp; of production and nonsupervisory employees between annual_16 and january_17 using the data type 30.&nbsp; Round to the nearest penny.&nbsp; You should have a column for the average earnings and a column for the year, and the period.</span>"
            ],
            "metadata": {
                "azdata_cell_guid": "1bb0ed09-4b02-4132-910e-5903697628af"
            },
            "attachments": {}
        },
        {
            "cell_type": "code",
            "source": [
                "SELECT TOP 10 round(u.average_weekly_earnings,2) as average_weekly_earnings, u.year, u.period\r\n",
                "FROM\r\n",
                "    (SELECT value as average_weekly_earnings, year, period\r\n",
                "    FROM LaborStatisticsDB.dbo.annual_2016 as a2016 JOIN LaborStatisticsDB.dbo.series as series ON a2016.series_id = series.series_id\r\n",
                "    WHERE series.data_type_code = 30\r\n",
                "    UNION\r\n",
                "    SELECT value as 'Average Weekly Earnings', year, period\r\n",
                "    FROM LaborStatisticsDB.dbo.january_2017 as j2017 JOIN LaborStatisticsDB.dbo.series as series ON j2017.series_id = series.series_id\r\n",
                "WHERE series.data_type_code = 30) as u\r\n",
                "ORDER BY u.average_weekly_earnings DESC"
            ],
            "metadata": {
                "azdata_cell_guid": "0841b6d6-9af2-41ba-8e28-dc40d08bd061",
                "language": "sql"
            },
            "outputs": [
                {
                    "output_type": "display_data",
                    "data": {
                        "text/html": "(10 rows affected)"
                    },
                    "metadata": {}
                },
                {
                    "output_type": "display_data",
                    "data": {
                        "text/html": "Total execution time: 00:00:00.107"
                    },
                    "metadata": {}
                },
                {
                    "output_type": "execute_result",
                    "execution_count": 95,
                    "data": {
                        "application/vnd.dataresource+json": {
                            "schema": {
                                "fields": [
                                    {
                                        "name": "average_weekly_earnings"
                                    },
                                    {
                                        "name": "year"
                                    },
                                    {
                                        "name": "period"
                                    }
                                ]
                            },
                            "data": [
                                {
                                    "0": "1847.47",
                                    "1": "2017",
                                    "2": "M01"
                                },
                                {
                                    "0": "1812.6",
                                    "1": "2017",
                                    "2": "M01"
                                },
                                {
                                    "0": "1797.99",
                                    "1": "2017",
                                    "2": "M01"
                                },
                                {
                                    "0": "1792.27",
                                    "1": "2017",
                                    "2": "M01"
                                },
                                {
                                    "0": "1773.7",
                                    "1": "2017",
                                    "2": "M01"
                                },
                                {
                                    "0": "1758.48",
                                    "1": "2017",
                                    "2": "M01"
                                },
                                {
                                    "0": "1749.56",
                                    "1": "2017",
                                    "2": "M01"
                                },
                                {
                                    "0": "1749.02",
                                    "1": "2017",
                                    "2": "M01"
                                },
                                {
                                    "0": "1730.96",
                                    "1": "2016",
                                    "2": "M13"
                                },
                                {
                                    "0": "1720.42",
                                    "1": "2016",
                                    "2": "M13"
                                }
                            ]
                        },
                        "text/html": "<table><tr><th>average_weekly_earnings</th><th>year</th><th>period</th></tr><tr><td>1847.47</td><td>2017</td><td>M01</td></tr><tr><td>1812.6</td><td>2017</td><td>M01</td></tr><tr><td>1797.99</td><td>2017</td><td>M01</td></tr><tr><td>1792.27</td><td>2017</td><td>M01</td></tr><tr><td>1773.7</td><td>2017</td><td>M01</td></tr><tr><td>1758.48</td><td>2017</td><td>M01</td></tr><tr><td>1749.56</td><td>2017</td><td>M01</td></tr><tr><td>1749.02</td><td>2017</td><td>M01</td></tr><tr><td>1730.96</td><td>2016</td><td>M13</td></tr><tr><td>1720.42</td><td>2016</td><td>M13</td></tr></table>"
                    },
                    "metadata": {}
                }
            ],
            "execution_count": 95
        },
        {
            "cell_type": "markdown",
            "source": [
                "## <span style=\"font-size:12pt;font-family:Montserrat, sans-serif;color:rgb(53, 74, 95);background-color:rgb(255, 255, 255);font-weight:700;vertical-align:baseline;white-space:pre-wrap;\">Summarize Your Results</span>\n",
                "\n",
                "<span style=\"font-size:10pt;font-family:Arvo, serif;color:rgb(102, 102, 102);background-color:rgb(255, 255, 255);vertical-align:baseline;white-space:pre-wrap;\">With what you know now about the </span> <span style=\"background-color:rgb(255, 255, 255);color:rgb(102, 102, 102);font-family:&quot;Times New Roman&quot;;font-size:13.3333px;white-space:pre-wrap;\">Bureau of Labor Statistics (BLS) Current Employment Survey (CES) results and working with the</span> <span style=\"color:rgb(102, 102, 102);white-space:pre-wrap;font-family:&quot;Times New Roman&quot;;font-size:13.3333px;\">Labor Statistics Database</span><span style=\"background-color:rgb(255, 255, 255);color:rgb(102, 102, 102);font-family:Arvo, serif;font-size:10pt;white-space:pre-wrap;\">, answer the following questions. Note that while this is subjective, you should include relevant data to back up your opinion.</span>\n",
                "\n",
                "1. <span style=\"background-color:rgb(255, 255, 255);font-size:10pt;white-space:pre-wrap;color:rgb(102, 102, 102);font-family:Arvo, serif;\">During which time period did production and nonsupervisory employees fare better?</span>"
            ],
            "metadata": {
                "azdata_cell_guid": "780f65a6-b9e7-4f24-9132-293c47f559e8"
            },
            "attachments": {}
        },
        {
            "cell_type": "markdown",
            "source": [
                "<mark>**Production and nonsupervisory employees fared better in January 2017 than in 2016. The top 8 highest average weekly earnings were in 2017.**</mark>"
            ],
            "metadata": {
                "azdata_cell_guid": "f11f1fb2-f7d1-41e5-bc9c-84087d7cfc93"
            },
            "attachments": {}
        },
        {
            "cell_type": "markdown",
            "source": [
                "2. <span style=\"background-color: rgb(255, 255, 255); font-size: 10pt; white-space: pre-wrap; color: rgb(102, 102, 102); font-family: Arvo, serif;\">In which industries did production and nonsupervisory employees fare better?</span>"
            ],
            "metadata": {
                "azdata_cell_guid": "f606e5e5-f6f1-4070-bbfa-e31617b43e56"
            },
            "attachments": {}
        },
        {
            "cell_type": "markdown",
            "source": [
                "**<mark>Production and nonsupervisory employees fared better in the private sectors, specifically in the private services and professional & business services industries. These were the industries with the top 10 highest aggregate weekly payrolls.</mark>**"
            ],
            "metadata": {
                "azdata_cell_guid": "94e18f5d-b87b-4ba6-b1fd-bde035dafc04"
            },
            "attachments": {}
        },
        {
            "cell_type": "markdown",
            "source": [
                "3. <span style=\"font-size: 10pt; font-family: Arvo, serif; color: rgb(102, 102, 102); background-color: rgb(255, 255, 255); font-variant-numeric: normal; font-variant-east-asian: normal; vertical-align: baseline; white-space: pre-wrap;\">Now that you have explored the datasets, is there any data or information that you wish you had in this analysis?</span>"
            ],
            "metadata": {
                "azdata_cell_guid": "101e4449-601a-46c6-b217-23f3339cfa76"
            },
            "attachments": {}
        },
        {
            "cell_type": "markdown",
            "source": [
                "- **<mark>Annual salary ($/yr) to compare against federal poverty levels.</mark>**\n",
                "- **<mark>Average hourly earnings of women employees.</mark>**\n",
                "- **<mark>Also, neither women employees: all employees ratio nor production & nonsupervisory employees: all employees ratio has data points.</mark>**"
            ],
            "metadata": {
                "azdata_cell_guid": "d07e9180-f5e0-49b4-b395-2c6c8a5f8aac"
            },
            "attachments": {}
        }
    ]
}